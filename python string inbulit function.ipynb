{
 "cells": [
  {
   "cell_type": "code",
   "execution_count": 1,
   "id": "1c593969-4c11-4c04-b44c-736e6228c628",
   "metadata": {},
   "outputs": [
    {
     "data": {
      "text/plain": [
       "str"
      ]
     },
     "execution_count": 1,
     "metadata": {},
     "output_type": "execute_result"
    }
   ],
   "source": [
    "s = 'shreyas'\n",
    "type(s)"
   ]
  },
  {
   "cell_type": "code",
   "execution_count": 2,
   "id": "e43126ba-4b42-4abc-9907-5fcdd9514225",
   "metadata": {},
   "outputs": [
    {
     "data": {
      "text/plain": [
       "str"
      ]
     },
     "execution_count": 2,
     "metadata": {},
     "output_type": "execute_result"
    }
   ],
   "source": [
    "s1 = \"this my string inbulit class\"\n",
    "type(s1)"
   ]
  },
  {
   "cell_type": "code",
   "execution_count": 3,
   "id": "23cd57cf-59d3-4b47-a51c-d1a7d3818705",
   "metadata": {},
   "outputs": [
    {
     "data": {
      "text/plain": [
       "7"
      ]
     },
     "execution_count": 3,
     "metadata": {},
     "output_type": "execute_result"
    }
   ],
   "source": [
    "len(s)"
   ]
  },
  {
   "cell_type": "code",
   "execution_count": 4,
   "id": "6ed989b7-0f0f-4101-855f-d24e7be83f43",
   "metadata": {},
   "outputs": [
    {
     "data": {
      "text/plain": [
       "'shreyas'"
      ]
     },
     "execution_count": 4,
     "metadata": {},
     "output_type": "execute_result"
    }
   ],
   "source": [
    "s"
   ]
  },
  {
   "cell_type": "code",
   "execution_count": 5,
   "id": "2f28065c-3995-4bdc-8e50-a082116892f4",
   "metadata": {},
   "outputs": [
    {
     "data": {
      "text/plain": [
       "28"
      ]
     },
     "execution_count": 5,
     "metadata": {},
     "output_type": "execute_result"
    }
   ],
   "source": [
    "len(s1)"
   ]
  },
  {
   "cell_type": "code",
   "execution_count": 6,
   "id": "89fcb2e1-8952-4dd9-8a75-ae3a242ba425",
   "metadata": {},
   "outputs": [
    {
     "data": {
      "text/plain": [
       "0"
      ]
     },
     "execution_count": 6,
     "metadata": {},
     "output_type": "execute_result"
    }
   ],
   "source": [
    "s.find('s')"
   ]
  },
  {
   "cell_type": "code",
   "execution_count": 7,
   "id": "254d9cc5-e3ba-4a21-adee-749b6b7b2e26",
   "metadata": {},
   "outputs": [
    {
     "data": {
      "text/plain": [
       "'shreyas'"
      ]
     },
     "execution_count": 7,
     "metadata": {},
     "output_type": "execute_result"
    }
   ],
   "source": [
    "s"
   ]
  },
  {
   "cell_type": "code",
   "execution_count": 9,
   "id": "6a8e25b7-6daf-4f19-86ba-a0f2be5beb68",
   "metadata": {},
   "outputs": [
    {
     "data": {
      "text/plain": [
       "-1"
      ]
     },
     "execution_count": 9,
     "metadata": {},
     "output_type": "execute_result"
    }
   ],
   "source": [
    "s.find(\"S\")"
   ]
  },
  {
   "cell_type": "code",
   "execution_count": 11,
   "id": "2b083f86-243d-4573-8a7b-684de9b5b039",
   "metadata": {},
   "outputs": [
    {
     "data": {
      "text/plain": [
       "5"
      ]
     },
     "execution_count": 11,
     "metadata": {},
     "output_type": "execute_result"
    }
   ],
   "source": [
    "s2 = \"pwskills\"\n",
    "s2.find('l')"
   ]
  },
  {
   "cell_type": "code",
   "execution_count": 12,
   "id": "37682ca2-bb79-4b71-82af-3352c626fad5",
   "metadata": {},
   "outputs": [
    {
     "data": {
      "text/plain": [
       "2"
      ]
     },
     "execution_count": 12,
     "metadata": {},
     "output_type": "execute_result"
    }
   ],
   "source": [
    "s2.find('sk')"
   ]
  },
  {
   "cell_type": "code",
   "execution_count": 13,
   "id": "3ece48e4-a79f-44dc-9784-9bb94fa01ab4",
   "metadata": {},
   "outputs": [
    {
     "data": {
      "text/plain": [
       "2"
      ]
     },
     "execution_count": 13,
     "metadata": {},
     "output_type": "execute_result"
    }
   ],
   "source": [
    "s2.count('l')"
   ]
  },
  {
   "cell_type": "code",
   "execution_count": 14,
   "id": "c1036755-d5ae-4f49-9c11-a4b5ffb300b5",
   "metadata": {},
   "outputs": [
    {
     "data": {
      "text/plain": [
       "'pwskills'"
      ]
     },
     "execution_count": 14,
     "metadata": {},
     "output_type": "execute_result"
    }
   ],
   "source": [
    "s2"
   ]
  },
  {
   "cell_type": "code",
   "execution_count": 15,
   "id": "55be0fcf-b85b-4d7c-ab8b-9561d1a2765e",
   "metadata": {},
   "outputs": [
    {
     "data": {
      "text/plain": [
       "0"
      ]
     },
     "execution_count": 15,
     "metadata": {},
     "output_type": "execute_result"
    }
   ],
   "source": [
    "s2.count('z')"
   ]
  },
  {
   "cell_type": "code",
   "execution_count": 16,
   "id": "4908e4a3-70a3-4758-8adb-5f5d7741c8a5",
   "metadata": {},
   "outputs": [
    {
     "data": {
      "text/plain": [
       "'pwskills'"
      ]
     },
     "execution_count": 16,
     "metadata": {},
     "output_type": "execute_result"
    }
   ],
   "source": [
    "s2"
   ]
  },
  {
   "cell_type": "code",
   "execution_count": 17,
   "id": "149a3483-6521-47be-8114-83fd64ae1029",
   "metadata": {},
   "outputs": [
    {
     "data": {
      "text/plain": [
       "'PWSKILLS'"
      ]
     },
     "execution_count": 17,
     "metadata": {},
     "output_type": "execute_result"
    }
   ],
   "source": [
    "s2.upper()"
   ]
  },
  {
   "cell_type": "code",
   "execution_count": 18,
   "id": "b398056b-1bba-4485-9218-9bc4c0113398",
   "metadata": {},
   "outputs": [
    {
     "data": {
      "text/plain": [
       "'pwskills'"
      ]
     },
     "execution_count": 18,
     "metadata": {},
     "output_type": "execute_result"
    }
   ],
   "source": [
    "s2"
   ]
  },
  {
   "cell_type": "code",
   "execution_count": 19,
   "id": "353b0cc9-6db4-48f8-999d-ed1feb4280e0",
   "metadata": {},
   "outputs": [
    {
     "data": {
      "text/plain": [
       "'collegewallah'"
      ]
     },
     "execution_count": 19,
     "metadata": {},
     "output_type": "execute_result"
    }
   ],
   "source": [
    "s3 = \"CollegeWallah\"\n",
    "s3.lower()"
   ]
  },
  {
   "cell_type": "code",
   "execution_count": 20,
   "id": "af06456a-3c71-4ce5-8557-cada962652cb",
   "metadata": {},
   "outputs": [
    {
     "data": {
      "text/plain": [
       "'COLLEGEWALLAH'"
      ]
     },
     "execution_count": 20,
     "metadata": {},
     "output_type": "execute_result"
    }
   ],
   "source": [
    "s3.upper()"
   ]
  },
  {
   "cell_type": "code",
   "execution_count": 21,
   "id": "bae68ab6-77c3-46dc-bbfe-000bdf6c5262",
   "metadata": {},
   "outputs": [
    {
     "data": {
      "text/plain": [
       "'CollegeWallah'"
      ]
     },
     "execution_count": 21,
     "metadata": {},
     "output_type": "execute_result"
    }
   ],
   "source": [
    "s3"
   ]
  },
  {
   "cell_type": "code",
   "execution_count": 22,
   "id": "bba36f61-deaf-4a31-923f-c3e80126e18e",
   "metadata": {},
   "outputs": [
    {
     "data": {
      "text/plain": [
       "'CollegeWallah'"
      ]
     },
     "execution_count": 22,
     "metadata": {},
     "output_type": "execute_result"
    }
   ],
   "source": [
    "s3"
   ]
  },
  {
   "cell_type": "code",
   "execution_count": 23,
   "id": "7668cb23-e462-48b8-af64-f8b2ea4607c4",
   "metadata": {},
   "outputs": [
    {
     "data": {
      "text/plain": [
       "'cOLLEGEwALLAH'"
      ]
     },
     "execution_count": 23,
     "metadata": {},
     "output_type": "execute_result"
    }
   ],
   "source": [
    "s3.swapcase()"
   ]
  },
  {
   "cell_type": "code",
   "execution_count": 24,
   "id": "8eb6c73e-18c9-47e0-ba39-c357c0541bde",
   "metadata": {},
   "outputs": [
    {
     "data": {
      "text/plain": [
       "'Collegewallah'"
      ]
     },
     "execution_count": 24,
     "metadata": {},
     "output_type": "execute_result"
    }
   ],
   "source": [
    "s3.title()"
   ]
  },
  {
   "cell_type": "code",
   "execution_count": 25,
   "id": "95cb4607-1062-4924-a0a5-85b86009f70d",
   "metadata": {},
   "outputs": [
    {
     "data": {
      "text/plain": [
       "'pwskills'"
      ]
     },
     "execution_count": 25,
     "metadata": {},
     "output_type": "execute_result"
    }
   ],
   "source": [
    "s2"
   ]
  },
  {
   "cell_type": "code",
   "execution_count": 26,
   "id": "de678555-32e3-4127-8c22-009c9680c46d",
   "metadata": {},
   "outputs": [
    {
     "data": {
      "text/plain": [
       "'this my string inbulit class'"
      ]
     },
     "execution_count": 26,
     "metadata": {},
     "output_type": "execute_result"
    }
   ],
   "source": [
    "s1"
   ]
  },
  {
   "cell_type": "code",
   "execution_count": 27,
   "id": "f368a385-6cfc-44a6-85a2-84574b8bcff9",
   "metadata": {},
   "outputs": [
    {
     "data": {
      "text/plain": [
       "'This My String Inbulit Class'"
      ]
     },
     "execution_count": 27,
     "metadata": {},
     "output_type": "execute_result"
    }
   ],
   "source": [
    "s1.title()"
   ]
  },
  {
   "cell_type": "markdown",
   "id": "ac0959dc-0334-4b9a-a633-43ffb02f57bc",
   "metadata": {},
   "source": [
    "s1.capitalize()"
   ]
  },
  {
   "cell_type": "code",
   "execution_count": 28,
   "id": "845557ed-fdb0-419e-bc8f-202f431ad63e",
   "metadata": {},
   "outputs": [
    {
     "data": {
      "text/plain": [
       "'This my string inbulit class'"
      ]
     },
     "execution_count": 28,
     "metadata": {},
     "output_type": "execute_result"
    }
   ],
   "source": [
    "s1.capitalize()"
   ]
  },
  {
   "cell_type": "code",
   "execution_count": null,
   "id": "2ff326fc-4925-431c-87b8-73c340056a6d",
   "metadata": {},
   "outputs": [],
   "source": []
  },
  {
   "cell_type": "code",
   "execution_count": null,
   "id": "d0c74ec9-eb23-416d-a4e2-11c700b52533",
   "metadata": {},
   "outputs": [],
   "source": []
  }
 ],
 "metadata": {
  "kernelspec": {
   "display_name": "Python 3 (ipykernel)",
   "language": "python",
   "name": "python3"
  },
  "language_info": {
   "codemirror_mode": {
    "name": "ipython",
    "version": 3
   },
   "file_extension": ".py",
   "mimetype": "text/x-python",
   "name": "python",
   "nbconvert_exporter": "python",
   "pygments_lexer": "ipython3",
   "version": "3.10.8"
  }
 },
 "nbformat": 4,
 "nbformat_minor": 5
}
